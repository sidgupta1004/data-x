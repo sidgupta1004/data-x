{
 "cells": [
  {
   "cell_type": "markdown",
   "metadata": {},
   "source": [
    "Q1: Empty list b"
   ]
  },
  {
   "cell_type": "code",
   "execution_count": 5,
   "metadata": {
    "collapsed": true
   },
   "outputs": [],
   "source": [
    "b = []"
   ]
  },
  {
   "cell_type": "markdown",
   "metadata": {},
   "source": [
    "Q2: In b store every word in the sentence ”I am so excited about Data-X. I feel it is\n",
    "important to be able to work with data.” as an element of its own (Data-X is one\n",
    "word)."
   ]
  },
  {
   "cell_type": "code",
   "execution_count": 6,
   "metadata": {
    "collapsed": false
   },
   "outputs": [
    {
     "name": "stdout",
     "output_type": "stream",
     "text": [
      "['I', 'am', 'so', 'excited', 'about', 'Data-X.', 'I', 'feel', 'it', 'is', 'important', 'to', 'be', 'able', 'to', 'work', 'with', 'data.']\n"
     ]
    }
   ],
   "source": [
    "line = \"I am so excited about Data-X. I feel it is important to be able to work with data.\"\n",
    "b = line.split()\n",
    "print(b)"
   ]
  },
  {
   "cell_type": "markdown",
   "metadata": {},
   "source": [
    "Q3: Count the occurences of the lower-case letter ’e’ in the list b."
   ]
  },
  {
   "cell_type": "code",
   "execution_count": 7,
   "metadata": {
    "collapsed": false
   },
   "outputs": [
    {
     "data": {
      "text/plain": [
       "6"
      ]
     },
     "execution_count": 7,
     "metadata": {},
     "output_type": "execute_result"
    }
   ],
   "source": [
    "count = 0\n",
    "for i in b:\n",
    "    count += i.count(\"e\")\n",
    "    \n",
    "count"
   ]
  },
  {
   "cell_type": "markdown",
   "metadata": {},
   "source": [
    "Q4: Replace every lower-or upper-case letter ’i’ in the list b with a ’1’"
   ]
  },
  {
   "cell_type": "code",
   "execution_count": 8,
   "metadata": {
    "collapsed": false
   },
   "outputs": [
    {
     "name": "stdout",
     "output_type": "stream",
     "text": [
      "['1', 'am', 'so', 'exc1ted', 'about', 'Data-X.', '1', 'feel', '1t', '1s', '1mportant', 'to', 'be', 'able', 'to', 'work', 'w1th', 'data.']\n"
     ]
    }
   ],
   "source": [
    "b = [a.replace(\"i\", \"1\") for a in b]\n",
    "b = [a.replace(\"I\", \"1\") for a in b]\n",
    "print(b)"
   ]
  },
  {
   "cell_type": "markdown",
   "metadata": {},
   "source": [
    "Q5: Append the string ”This is the end of the first HW\", to the list b, with every new word as an element of its own 1. It should look like this: ['1', 'am', 'so', 'exc1ted', 'about','Data-X.', '1', 'feel', '1t', '1s', '1mportant', 'to','be', 'able', 'to', 'work', 'with', 'data', 'This', 'is', 'the, 'end, 'of, 'the', 'first', 'HW']"
   ]
  },
  {
   "cell_type": "code",
   "execution_count": 9,
   "metadata": {
    "collapsed": false
   },
   "outputs": [
    {
     "name": "stdout",
     "output_type": "stream",
     "text": [
      "['1', 'am', 'so', 'exc1ted', 'about', 'Data-X.', '1', 'feel', '1t', '1s', '1mportant', 'to', 'be', 'able', 'to', 'work', 'w1th', 'data.', 'This', 'is', 'the', 'end', 'of', 'the', 'first', 'HW']\n"
     ]
    }
   ],
   "source": [
    "line1 = \"This is the end of the first HW\"\n",
    "b = b + line1.split()\n",
    "print(b)"
   ]
  },
  {
   "cell_type": "markdown",
   "metadata": {},
   "source": [
    "Q6: Print b, as ONE string backwards (starting with ”WH tsrif eht ...”)"
   ]
  },
  {
   "cell_type": "code",
   "execution_count": 10,
   "metadata": {
    "collapsed": false
   },
   "outputs": [
    {
     "name": "stdout",
     "output_type": "stream",
     "text": [
      "['HW', 'first', 'the', 'of', 'end', 'the', 'is', 'This', 'data.', 'w1th', 'work', 'to', 'able', 'be', 'to', '1mportant', '1s', '1t', 'feel', '1', 'Data-X.', 'about', 'exc1ted', 'so', 'am', '1']\n"
     ]
    }
   ],
   "source": [
    "c = []\n",
    "for i in range(len(b)-1, -1, -1):\n",
    "    c.append(b[i])\n",
    "b=c\n",
    "print(b)"
   ]
  },
  {
   "cell_type": "code",
   "execution_count": 11,
   "metadata": {
    "collapsed": false
   },
   "outputs": [
    {
     "name": "stdout",
     "output_type": "stream",
     "text": [
      "['WH', 'tsrif', 'eht', 'fo', 'dne', 'eht', 'si', 'sihT', '.atad', 'ht1w', 'krow', 'ot', 'elba', 'eb', 'ot', 'tnatropm1', 's1', 't1', 'leef', '1', '.X-ataD', 'tuoba', 'det1cxe', 'os', 'ma', '1']\n"
     ]
    }
   ],
   "source": [
    "d = []\n",
    "e = []\n",
    "for i in b:\n",
    "    for j in range (len(i)-1, -1, -1):\n",
    "        d.append(i[j])\n",
    "    e.append(\"\".join(d))\n",
    "    d = []\n",
    "b=e\n",
    "print(b)"
   ]
  },
  {
   "cell_type": "code",
   "execution_count": 12,
   "metadata": {
    "collapsed": false
   },
   "outputs": [
    {
     "name": "stdout",
     "output_type": "stream",
     "text": [
      "WH tsrif eht fo dne eht si sihT .atad ht1w krow ot elba eb ot tnatropm1 s1 t1 leef 1 .X-ataD tuoba det1cxe os ma 1\n"
     ]
    }
   ],
   "source": [
    "b = \" \".join(b)\n",
    "print(b)"
   ]
  }
 ],
 "metadata": {
  "anaconda-cloud": {},
  "kernelspec": {
   "display_name": "Python [Root]",
   "language": "python",
   "name": "Python [Root]"
  },
  "language_info": {
   "codemirror_mode": {
    "name": "ipython",
    "version": 3
   },
   "file_extension": ".py",
   "mimetype": "text/x-python",
   "name": "python",
   "nbconvert_exporter": "python",
   "pygments_lexer": "ipython3",
   "version": "3.5.2"
  }
 },
 "nbformat": 4,
 "nbformat_minor": 0
}
