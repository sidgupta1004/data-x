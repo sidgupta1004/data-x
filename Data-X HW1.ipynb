{
 "cells": [
  {
   "cell_type": "markdown",
   "metadata": {},
   "source": [
    "Data-X(IEOR 290): HW1\n",
    "Name: Siddharth Gupta\n",
    "SID: 3032166801"
   ]
  },
  {
   "cell_type": "markdown",
   "metadata": {},
   "source": [
    "Q1: Empty Python list \"a\""
   ]
  },
  {
   "cell_type": "code",
   "execution_count": 32,
   "metadata": {
    "collapsed": false
   },
   "outputs": [],
   "source": [
    "a = []"
   ]
  },
  {
   "cell_type": "markdown",
   "metadata": {},
   "source": [
    "Q2: Store numbers between 2 and 46 with 0.5 increments"
   ]
  },
  {
   "cell_type": "code",
   "execution_count": 33,
   "metadata": {
    "collapsed": false
   },
   "outputs": [
    {
     "data": {
      "text/plain": [
       "[2.0,\n",
       " 2.5,\n",
       " 3.0,\n",
       " 3.5,\n",
       " 4.0,\n",
       " 4.5,\n",
       " 5.0,\n",
       " 5.5,\n",
       " 6.0,\n",
       " 6.5,\n",
       " 7.0,\n",
       " 7.5,\n",
       " 8.0,\n",
       " 8.5,\n",
       " 9.0,\n",
       " 9.5,\n",
       " 10.0,\n",
       " 10.5,\n",
       " 11.0,\n",
       " 11.5,\n",
       " 12.0,\n",
       " 12.5,\n",
       " 13.0,\n",
       " 13.5,\n",
       " 14.0,\n",
       " 14.5,\n",
       " 15.0,\n",
       " 15.5,\n",
       " 16.0,\n",
       " 16.5,\n",
       " 17.0,\n",
       " 17.5,\n",
       " 18.0,\n",
       " 18.5,\n",
       " 19.0,\n",
       " 19.5,\n",
       " 20.0,\n",
       " 20.5,\n",
       " 21.0,\n",
       " 21.5,\n",
       " 22.0,\n",
       " 22.5,\n",
       " 23.0,\n",
       " 23.5,\n",
       " 24.0,\n",
       " 24.5,\n",
       " 25.0,\n",
       " 25.5,\n",
       " 26.0,\n",
       " 26.5,\n",
       " 27.0,\n",
       " 27.5,\n",
       " 28.0,\n",
       " 28.5,\n",
       " 29.0,\n",
       " 29.5,\n",
       " 30.0,\n",
       " 30.5,\n",
       " 31.0,\n",
       " 31.5,\n",
       " 32.0,\n",
       " 32.5,\n",
       " 33.0,\n",
       " 33.5,\n",
       " 34.0,\n",
       " 34.5,\n",
       " 35.0,\n",
       " 35.5,\n",
       " 36.0,\n",
       " 36.5,\n",
       " 37.0,\n",
       " 37.5,\n",
       " 38.0,\n",
       " 38.5,\n",
       " 39.0,\n",
       " 39.5,\n",
       " 40.0,\n",
       " 40.5,\n",
       " 41.0,\n",
       " 41.5,\n",
       " 42.0,\n",
       " 42.5,\n",
       " 43.0,\n",
       " 43.5,\n",
       " 44.0,\n",
       " 44.5,\n",
       " 45.0,\n",
       " 45.5,\n",
       " 46.0]"
      ]
     },
     "execution_count": 33,
     "metadata": {},
     "output_type": "execute_result"
    }
   ],
   "source": [
    "a = [x*0.5 for x in range(4, 93)]\n",
    "a"
   ]
  },
  {
   "cell_type": "markdown",
   "metadata": {},
   "source": [
    "Q3: Double every even integer element of a and store back in a"
   ]
  },
  {
   "cell_type": "code",
   "execution_count": 34,
   "metadata": {
    "collapsed": false
   },
   "outputs": [
    {
     "data": {
      "text/plain": [
       "[4.0,\n",
       " 2.5,\n",
       " 3.0,\n",
       " 3.5,\n",
       " 8.0,\n",
       " 4.5,\n",
       " 5.0,\n",
       " 5.5,\n",
       " 12.0,\n",
       " 6.5,\n",
       " 7.0,\n",
       " 7.5,\n",
       " 16.0,\n",
       " 8.5,\n",
       " 9.0,\n",
       " 9.5,\n",
       " 20.0,\n",
       " 10.5,\n",
       " 11.0,\n",
       " 11.5,\n",
       " 24.0,\n",
       " 12.5,\n",
       " 13.0,\n",
       " 13.5,\n",
       " 28.0,\n",
       " 14.5,\n",
       " 15.0,\n",
       " 15.5,\n",
       " 32.0,\n",
       " 16.5,\n",
       " 17.0,\n",
       " 17.5,\n",
       " 36.0,\n",
       " 18.5,\n",
       " 19.0,\n",
       " 19.5,\n",
       " 40.0,\n",
       " 20.5,\n",
       " 21.0,\n",
       " 21.5,\n",
       " 44.0,\n",
       " 22.5,\n",
       " 23.0,\n",
       " 23.5,\n",
       " 48.0,\n",
       " 24.5,\n",
       " 25.0,\n",
       " 25.5,\n",
       " 52.0,\n",
       " 26.5,\n",
       " 27.0,\n",
       " 27.5,\n",
       " 56.0,\n",
       " 28.5,\n",
       " 29.0,\n",
       " 29.5,\n",
       " 60.0,\n",
       " 30.5,\n",
       " 31.0,\n",
       " 31.5,\n",
       " 64.0,\n",
       " 32.5,\n",
       " 33.0,\n",
       " 33.5,\n",
       " 68.0,\n",
       " 34.5,\n",
       " 35.0,\n",
       " 35.5,\n",
       " 72.0,\n",
       " 36.5,\n",
       " 37.0,\n",
       " 37.5,\n",
       " 76.0,\n",
       " 38.5,\n",
       " 39.0,\n",
       " 39.5,\n",
       " 80.0,\n",
       " 40.5,\n",
       " 41.0,\n",
       " 41.5,\n",
       " 84.0,\n",
       " 42.5,\n",
       " 43.0,\n",
       " 43.5,\n",
       " 88.0,\n",
       " 44.5,\n",
       " 45.0,\n",
       " 45.5,\n",
       " 92.0]"
      ]
     },
     "execution_count": 34,
     "metadata": {},
     "output_type": "execute_result"
    }
   ],
   "source": [
    "for i in range(len(a)):\n",
    "    if a[i]%2 == 0:\n",
    "        a[i] = a[i]*2\n",
    "\n",
    "a"
   ]
  },
  {
   "cell_type": "markdown",
   "metadata": {},
   "source": [
    "Q4: Add all numbers in a except for 32nd and 51st elements"
   ]
  },
  {
   "cell_type": "code",
   "execution_count": 35,
   "metadata": {
    "collapsed": false
   },
   "outputs": [
    {
     "data": {
      "text/plain": [
       "2643.0"
      ]
     },
     "execution_count": 35,
     "metadata": {},
     "output_type": "execute_result"
    }
   ],
   "source": [
    "sum = 0\n",
    "for i in range(len(a)):\n",
    "    if not (i==31 or i==51):\n",
    "        sum += a[i]\n",
    "\n",
    "sum"
   ]
  },
  {
   "cell_type": "markdown",
   "metadata": {},
   "source": [
    "Q5: Calculate the mean of a"
   ]
  },
  {
   "cell_type": "code",
   "execution_count": 37,
   "metadata": {
    "collapsed": false
   },
   "outputs": [
    {
     "data": {
      "text/plain": [
       "30.202247191011235"
      ]
     },
     "execution_count": 37,
     "metadata": {},
     "output_type": "execute_result"
    }
   ],
   "source": [
    "total_sum = 0\n",
    "for i in range(len(a)):\n",
    "    total_sum += a[i]\n",
    "\n",
    "mean = total_sum/len(a)\n",
    "mean"
   ]
  },
  {
   "cell_type": "markdown",
   "metadata": {},
   "source": [
    "Q6: Create a new list called a_half, containing all the .5 (half-numbers) in a"
   ]
  },
  {
   "cell_type": "code",
   "execution_count": 38,
   "metadata": {
    "collapsed": false
   },
   "outputs": [
    {
     "data": {
      "text/plain": [
       "[2.5,\n",
       " 3.5,\n",
       " 4.5,\n",
       " 5.5,\n",
       " 6.5,\n",
       " 7.5,\n",
       " 8.5,\n",
       " 9.5,\n",
       " 10.5,\n",
       " 11.5,\n",
       " 12.5,\n",
       " 13.5,\n",
       " 14.5,\n",
       " 15.5,\n",
       " 16.5,\n",
       " 17.5,\n",
       " 18.5,\n",
       " 19.5,\n",
       " 20.5,\n",
       " 21.5,\n",
       " 22.5,\n",
       " 23.5,\n",
       " 24.5,\n",
       " 25.5,\n",
       " 26.5,\n",
       " 27.5,\n",
       " 28.5,\n",
       " 29.5,\n",
       " 30.5,\n",
       " 31.5,\n",
       " 32.5,\n",
       " 33.5,\n",
       " 34.5,\n",
       " 35.5,\n",
       " 36.5,\n",
       " 37.5,\n",
       " 38.5,\n",
       " 39.5,\n",
       " 40.5,\n",
       " 41.5,\n",
       " 42.5,\n",
       " 43.5,\n",
       " 44.5,\n",
       " 45.5]"
      ]
     },
     "execution_count": 38,
     "metadata": {},
     "output_type": "execute_result"
    }
   ],
   "source": [
    "a_half = []\n",
    "for i in range(len(a)):\n",
    "    if not i % 2 == 0:\n",
    "        a_half.append(a[i])\n",
    "\n",
    "a_half"
   ]
  },
  {
   "cell_type": "markdown",
   "metadata": {},
   "source": [
    "Q7: Sort a so that all integers (i.e. 2.0, 3.0 etc.) are stored before the half-numbers (i.e. 2.5, 3.5,4.5 etc.). The elements should also be stored in increasing order from low to high for the integer and the half-number parts of the list. Store the results in a."
   ]
  },
  {
   "cell_type": "code",
   "execution_count": 39,
   "metadata": {
    "collapsed": false
   },
   "outputs": [
    {
     "data": {
      "text/plain": [
       "[3.0,\n",
       " 4.0,\n",
       " 5.0,\n",
       " 7.0,\n",
       " 8.0,\n",
       " 9.0,\n",
       " 11.0,\n",
       " 12.0,\n",
       " 13.0,\n",
       " 15.0,\n",
       " 16.0,\n",
       " 17.0,\n",
       " 19.0,\n",
       " 20.0,\n",
       " 21.0,\n",
       " 23.0,\n",
       " 24.0,\n",
       " 25.0,\n",
       " 27.0,\n",
       " 28.0,\n",
       " 29.0,\n",
       " 31.0,\n",
       " 32.0,\n",
       " 33.0,\n",
       " 35.0,\n",
       " 36.0,\n",
       " 37.0,\n",
       " 39.0,\n",
       " 40.0,\n",
       " 41.0,\n",
       " 43.0,\n",
       " 44.0,\n",
       " 45.0,\n",
       " 48.0,\n",
       " 52.0,\n",
       " 56.0,\n",
       " 60.0,\n",
       " 64.0,\n",
       " 68.0,\n",
       " 72.0,\n",
       " 76.0,\n",
       " 80.0,\n",
       " 84.0,\n",
       " 88.0,\n",
       " 92.0,\n",
       " 2.5,\n",
       " 3.5,\n",
       " 4.5,\n",
       " 5.5,\n",
       " 6.5,\n",
       " 7.5,\n",
       " 8.5,\n",
       " 9.5,\n",
       " 10.5,\n",
       " 11.5,\n",
       " 12.5,\n",
       " 13.5,\n",
       " 14.5,\n",
       " 15.5,\n",
       " 16.5,\n",
       " 17.5,\n",
       " 18.5,\n",
       " 19.5,\n",
       " 20.5,\n",
       " 21.5,\n",
       " 22.5,\n",
       " 23.5,\n",
       " 24.5,\n",
       " 25.5,\n",
       " 26.5,\n",
       " 27.5,\n",
       " 28.5,\n",
       " 29.5,\n",
       " 30.5,\n",
       " 31.5,\n",
       " 32.5,\n",
       " 33.5,\n",
       " 34.5,\n",
       " 35.5,\n",
       " 36.5,\n",
       " 37.5,\n",
       " 38.5,\n",
       " 39.5,\n",
       " 40.5,\n",
       " 41.5,\n",
       " 42.5,\n",
       " 43.5,\n",
       " 44.5,\n",
       " 45.5]"
      ]
     },
     "execution_count": 39,
     "metadata": {},
     "output_type": "execute_result"
    }
   ],
   "source": [
    "a_integers = []\n",
    "for i in range(len(a)):\n",
    "    if i%2 == 0:\n",
    "        a_integers.append(a[i])\n",
    "        \n",
    "a_integers = sorted(a_integers)\n",
    "\n",
    "a = a_integers + a_half\n",
    "\n",
    "a"
   ]
  },
  {
   "cell_type": "markdown",
   "metadata": {},
   "source": [
    "Q8: Printing every fourth element"
   ]
  },
  {
   "cell_type": "code",
   "execution_count": 25,
   "metadata": {
    "collapsed": false
   },
   "outputs": [
    {
     "name": "stdout",
     "output_type": "stream",
     "text": [
      "3.0\n",
      "8.0\n",
      "13.0\n",
      "19.0\n",
      "24.0\n",
      "29.0\n",
      "35.0\n",
      "40.0\n",
      "45.0\n",
      "60.0\n",
      "76.0\n",
      "92.0\n",
      "5.5\n",
      "9.5\n",
      "13.5\n",
      "17.5\n",
      "21.5\n",
      "25.5\n",
      "29.5\n",
      "33.5\n",
      "37.5\n",
      "41.5\n",
      "45.5\n"
     ]
    }
   ],
   "source": [
    "for i in range(len(a)):\n",
    "    if i%4 == 0:\n",
    "        print (a[i])"
   ]
  },
  {
   "cell_type": "markdown",
   "metadata": {},
   "source": [
    "Q8: Print number of integers and half-numbers"
   ]
  },
  {
   "cell_type": "code",
   "execution_count": 27,
   "metadata": {
    "collapsed": false
   },
   "outputs": [
    {
     "name": "stdout",
     "output_type": "stream",
     "text": [
      "45\n",
      "44\n"
     ]
    }
   ],
   "source": [
    "print (len(a_integers))\n",
    "print (len(a_half))"
   ]
  }
 ],
 "metadata": {
  "anaconda-cloud": {},
  "kernelspec": {
   "display_name": "Python [Root]",
   "language": "python",
   "name": "Python [Root]"
  },
  "language_info": {
   "codemirror_mode": {
    "name": "ipython",
    "version": 3
   },
   "file_extension": ".py",
   "mimetype": "text/x-python",
   "name": "python",
   "nbconvert_exporter": "python",
   "pygments_lexer": "ipython3",
   "version": "3.5.2"
  }
 },
 "nbformat": 4,
 "nbformat_minor": 0
}
